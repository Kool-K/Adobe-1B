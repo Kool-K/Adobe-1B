{
 "cells": [
  {
   "cell_type": "code",
   "execution_count": 26,
   "id": "f68f80a3",
   "metadata": {},
   "outputs": [],
   "source": [
    "import fitz  # PyMuPDF\n",
    "import json\n",
    "import os\n",
    "from IPython.display import display, HTML, clear_output\n",
    "import pandas as pd"
   ]
  },
  {
   "cell_type": "code",
   "execution_count": 33,
   "id": "52a5c17f",
   "metadata": {},
   "outputs": [
    {
     "name": "stdout",
     "output_type": "stream",
     "text": [
      "📝 No existing enhanced_training_data.json found, starting fresh\n"
     ]
    }
   ],
   "source": [
    "class EnhancedNotebookPDFLabeler:\n",
    "    def __init__(self, output_file=\"enhanced_training_data.json\"):\n",
    "        self.output_file = output_file\n",
    "        self.labeled_data = []\n",
    "        self.current_index = 0\n",
    "        self.all_spans = []\n",
    "        \n",
    "        # Enhanced label system\n",
    "        self.label_types = {\n",
    "            0: \"BODY_TEXT\",\n",
    "            1: \"TITLE\", \n",
    "            2: \"H1\",\n",
    "            3: \"H2\",\n",
    "            4: \"H3\",\n",
    "            5: \"H4\"\n",
    "        }\n",
    "        \n",
    "        # Load existing labels if they exist and are valid\n",
    "        if os.path.exists(output_file):\n",
    "            try:\n",
    "                if os.path.getsize(output_file) > 0:\n",
    "                    with open(output_file, 'r') as f:\n",
    "                        self.labeled_data = json.load(f)\n",
    "                    print(f\"✅ Loaded {len(self.labeled_data)} existing labels from {output_file}\")\n",
    "                else:\n",
    "                    print(f\"📝 Found empty {output_file}, starting fresh\")\n",
    "            except (json.JSONDecodeError, FileNotFoundError) as e:\n",
    "                print(f\"⚠️ Could not load {output_file}, starting fresh\")\n",
    "                backup_name = f\"{output_file}.backup\"\n",
    "                if os.path.exists(output_file):\n",
    "                    os.rename(output_file, backup_name)\n",
    "                    print(f\"💾 Corrupted file backed up as {backup_name}\")\n",
    "        else:\n",
    "            print(f\"📝 No existing {output_file} found, starting fresh\")\n",
    "        \n",
    "        self.existing_texts = {item['text'] for item in self.labeled_data}\n",
    "    \n",
    "    def load_pdf_spans(self, pdf_path):\n",
    "        \"\"\"Extract all text spans from PDF for labeling\"\"\"\n",
    "        if not os.path.exists(pdf_path):\n",
    "            print(f\"❌ Error: PDF file not found at {pdf_path}\")\n",
    "            return False\n",
    "        \n",
    "        doc = fitz.open(pdf_path)\n",
    "        self.all_spans = []\n",
    "        \n",
    "        for page_num, page in enumerate(doc):\n",
    "            blocks = page.get_text(\"dict\")[\"blocks\"]\n",
    "            for block in blocks:\n",
    "                if \"lines\" in block:\n",
    "                    for line in block[\"lines\"]:\n",
    "                        for span in line[\"spans\"]:\n",
    "                            text = span[\"text\"].strip()\n",
    "                            \n",
    "                            # Skip short text or already labeled text\n",
    "                            if len(text) <= 3 or text in self.existing_texts:\n",
    "                                continue\n",
    "                            \n",
    "                            # Store span info for labeling\n",
    "                            span_info = {\n",
    "                                \"text\": text,\n",
    "                                \"page\": page_num + 1,\n",
    "                                \"font_size\": span[\"size\"],\n",
    "                                \"is_bold\": \"Bold\" in span[\"font\"],\n",
    "                                \"is_italic\": \"Italic\" in span[\"font\"],\n",
    "                                \"x_pos\": span[\"bbox\"][0],\n",
    "                                \"raw_span\": span\n",
    "                            }\n",
    "                            self.all_spans.append(span_info)\n",
    "        \n",
    "        doc.close()\n",
    "        print(f\"📄 Loaded {len(self.all_spans)} text spans from {pdf_path}\")\n",
    "        self.current_index = 0\n",
    "        return True\n",
    "    \n",
    "    def display_current_span(self):\n",
    "        \"\"\"Display current span for labeling with enhanced options\"\"\"\n",
    "        if self.current_index >= len(self.all_spans):\n",
    "            print(\"🎉 All spans have been processed!\")\n",
    "            return False\n",
    "        \n",
    "        span = self.all_spans[self.current_index]\n",
    "        \n",
    "        # Create HTML display with enhanced labeling options\n",
    "        html_content = f\"\"\"\n",
    "        <div style=\"border: 1px solid #ddd; padding: 15px; margin: 10px 0; border-radius: 5px;\">\n",
    "            <h4>Span {self.current_index + 1} of {len(self.all_spans)}</h4>\n",
    "            <p><strong>Page:</strong> {span['page']}</p>\n",
    "            <p><strong>Text:</strong> <em>\"{span['text']}\"</em></p>\n",
    "            <div style=\"background-color: #f5f5f5; padding: 10px; border-radius: 3px;\">\n",
    "                <strong>Features:</strong><br>\n",
    "                • Font Size: {span['font_size']:.2f}<br>\n",
    "                • Bold: {span['is_bold']}<br>\n",
    "                • Italic: {span['is_italic']}<br>\n",
    "                • X Position: {span['x_pos']:.2f}<br>\n",
    "                • Text Length: {len(span['text'])}\n",
    "            </div>\n",
    "            <div style=\"background-color: #e8f4fd; padding: 10px; border-radius: 3px; margin-top: 10px;\">\n",
    "                <strong>🏷️ Labeling Options:</strong><br>\n",
    "                • <strong>0:</strong> BODY_TEXT (paragraphs, form fields, regular content)<br>\n",
    "                • <strong>1:</strong> TITLE (main document title)<br>\n",
    "                • <strong>2:</strong> H1 (major section headings)<br>\n",
    "                • <strong>3:</strong> H2 (subsection headings)<br>\n",
    "                • <strong>4:</strong> H3 (sub-subsection headings)<br>\n",
    "                • <strong>5:</strong> H4 (minor headings)\n",
    "            </div>\n",
    "        </div>\n",
    "        \"\"\"\n",
    "        \n",
    "        display(HTML(html_content))\n",
    "        return True\n",
    "    \n",
    "    def label_current_span(self, label):\n",
    "        \"\"\"Label the current span with enhanced label system\"\"\"\n",
    "        if self.current_index >= len(self.all_spans):\n",
    "            print(\"❌ No more spans to label\")\n",
    "            return\n",
    "        \n",
    "        span = self.all_spans[self.current_index]\n",
    "        \n",
    "        if label not in self.label_types:\n",
    "            print(f\"❌ Invalid label. Use: {list(self.label_types.keys())}\")\n",
    "            return\n",
    "        \n",
    "        # Create enhanced feature vector\n",
    "        features = [\n",
    "            span[\"font_size\"],\n",
    "            int(span[\"is_bold\"]),\n",
    "            int(span[\"is_italic\"]),\n",
    "            len(span[\"text\"]),\n",
    "            span[\"x_pos\"],\n",
    "            int(span[\"text\"][0].isdigit() if span[\"text\"] else 0),\n",
    "            int(span[\"text\"].istitle()),\n",
    "            span[\"text\"].count('.'),\n",
    "            span[\"page\"]  # Added page number as feature\n",
    "        ]\n",
    "        \n",
    "        # Add to labeled data with enhanced structure\n",
    "        labeled_item = {\n",
    "            \"text\": span[\"text\"],\n",
    "            \"features\": features,\n",
    "            \"label\": label,\n",
    "            \"label_type\": self.label_types[label],\n",
    "            \"page\": span[\"page\"],\n",
    "            \"font_size\": span[\"font_size\"],\n",
    "            \"is_bold\": span[\"is_bold\"]\n",
    "        }\n",
    "        \n",
    "        self.labeled_data.append(labeled_item)\n",
    "        self.existing_texts.add(span[\"text\"])\n",
    "        \n",
    "        # Save progress\n",
    "        self.save_progress()\n",
    "        \n",
    "        label_type = self.label_types[label]\n",
    "        print(f\"✅ Labeled as {label_type}: '{span['text']}'\")\n",
    "        \n",
    "        # Move to next span\n",
    "        self.current_index += 1\n",
    "    \n",
    "    def skip_current_span(self):\n",
    "        \"\"\"Skip the current span and move to next\"\"\"\n",
    "        if self.current_index < len(self.all_spans):\n",
    "            span = self.all_spans[self.current_index]\n",
    "            print(f\"⏭️ Skipped: '{span['text']}'\")\n",
    "            self.current_index += 1\n",
    "        else:\n",
    "            print(\"❌ No more spans to skip\")\n",
    "    \n",
    "    def save_progress(self):\n",
    "        \"\"\"Save current progress to file\"\"\"\n",
    "        try:\n",
    "            with open(self.output_file, 'w') as f:\n",
    "                json.dump(self.labeled_data, f, indent=2)\n",
    "        except Exception as e:\n",
    "            print(f\"⚠️ Error saving progress: {e}\")\n",
    "    \n",
    "    def get_stats(self):\n",
    "        \"\"\"Get enhanced labeling statistics\"\"\"\n",
    "        if not self.labeled_data:\n",
    "            print(\"No labeled data yet.\")\n",
    "            return\n",
    "        \n",
    "        # Count by label type\n",
    "        label_counts = {}\n",
    "        for item in self.labeled_data:\n",
    "            label_type = item['label_type']\n",
    "            label_counts[label_type] = label_counts.get(label_type, 0) + 1\n",
    "        \n",
    "        total = len(self.labeled_data)\n",
    "        \n",
    "        stats_html = f\"\"\"\n",
    "        <div style=\"background-color: #e8f5e8; padding: 15px; border-radius: 5px; margin: 10px 0;\">\n",
    "            <h4>📊 Enhanced Labeling Statistics</h4>\n",
    "            <p><strong>Total Labeled:</strong> {total}</p>\n",
    "            <p><strong>Progress:</strong> {self.current_index}/{len(self.all_spans)} spans processed</p>\n",
    "            <div style=\"margin-top: 10px;\">\n",
    "                <strong>Label Distribution:</strong>\n",
    "                <ul>\n",
    "        \"\"\"\n",
    "        \n",
    "        for label_type, count in sorted(label_counts.items()):\n",
    "            percentage = (count / total) * 100\n",
    "            stats_html += f\"<li><strong>{label_type}:</strong> {count} ({percentage:.1f}%)</li>\"\n",
    "        \n",
    "        stats_html += \"\"\"\n",
    "                </ul>\n",
    "            </div>\n",
    "        </div>\n",
    "        \"\"\"\n",
    "        display(HTML(stats_html))\n",
    "\n",
    "# Initialize the enhanced labeler\n",
    "labeler = EnhancedNotebookPDFLabeler(\"enhanced_training_data.json\")"
   ]
  },
  {
   "cell_type": "code",
   "execution_count": 34,
   "id": "ff28123a",
   "metadata": {},
   "outputs": [
    {
     "name": "stdout",
     "output_type": "stream",
     "text": [
      "📄 Loaded 62 text spans from sample-5-page-pdf-a4-size.pdf\n",
      "🚀 Ready to start labeling!\n",
      "\n",
      "Instructions:\n",
      "• Run the next cell to see the current text span\n",
      "• Use labeler.label_current_span(1) for HEADINGS\n",
      "• Use labeler.label_current_span(0) for BODY TEXT\n",
      "• Use labeler.skip_current_span() to skip\n",
      "• Use labeler.get_stats() to see progress\n"
     ]
    }
   ],
   "source": [
    "pdf_file = \"sample-5-page-pdf-a4-size.pdf\"  # Change this to your PDF filename\n",
    "success = labeler.load_pdf_spans(pdf_file)\n",
    "\n",
    "if success:\n",
    "    print(\"🚀 Ready to start labeling!\")\n",
    "    print(\"\\nInstructions:\")\n",
    "    print(\"• Run the next cell to see the current text span\")\n",
    "    print(\"• Use labeler.label_current_span(1) for HEADINGS\")\n",
    "    print(\"• Use labeler.label_current_span(0) for BODY TEXT\") \n",
    "    print(\"• Use labeler.skip_current_span() to skip\")\n",
    "    print(\"• Use labeler.get_stats() to see progress\")"
   ]
  },
  {
   "cell_type": "code",
   "execution_count": 49,
   "id": "ea30bf0d",
   "metadata": {},
   "outputs": [
    {
     "name": "stdout",
     "output_type": "stream",
     "text": [
      "⏭️ Skipped: 'Introduction'\n"
     ]
    },
    {
     "data": {
      "text/html": [
       "\n",
       "        <div style=\"border: 1px solid #ddd; padding: 15px; margin: 10px 0; border-radius: 5px;\">\n",
       "            <h4>Span 10 of 62</h4>\n",
       "            <p><strong>Page:</strong> 2</p>\n",
       "            <p><strong>Text:</strong> <em>\"This report outlines the launch strategy for\"</em></p>\n",
       "            <div style=\"background-color: #f5f5f5; padding: 10px; border-radius: 3px;\">\n",
       "                <strong>Features:</strong><br>\n",
       "                • Font Size: 22.00<br>\n",
       "                • Bold: False<br>\n",
       "                • Italic: False<br>\n",
       "                • X Position: 59.53<br>\n",
       "                • Text Length: 44\n",
       "            </div>\n",
       "            <div style=\"background-color: #e8f4fd; padding: 10px; border-radius: 3px; margin-top: 10px;\">\n",
       "                <strong>🏷️ Labeling Options:</strong><br>\n",
       "                • <strong>0:</strong> BODY_TEXT (paragraphs, form fields, regular content)<br>\n",
       "                • <strong>1:</strong> TITLE (main document title)<br>\n",
       "                • <strong>2:</strong> H1 (major section headings)<br>\n",
       "                • <strong>3:</strong> H2 (subsection headings)<br>\n",
       "                • <strong>4:</strong> H3 (sub-subsection headings)<br>\n",
       "                • <strong>5:</strong> H4 (minor headings)\n",
       "            </div>\n",
       "        </div>\n",
       "        "
      ],
      "text/plain": [
       "<IPython.core.display.HTML object>"
      ]
     },
     "metadata": {},
     "output_type": "display_data"
    },
    {
     "data": {
      "text/plain": [
       "True"
      ]
     },
     "execution_count": 49,
     "metadata": {},
     "output_type": "execute_result"
    }
   ],
   "source": [
    "# SKIP - Run this cell to skip current span\n",
    "labeler.skip_current_span()\n",
    "labeler.display_current_span()  # Show next span automatically\n"
   ]
  },
  {
   "cell_type": "code",
   "execution_count": 64,
   "id": "01fa3699",
   "metadata": {},
   "outputs": [
    {
     "data": {
      "text/html": [
       "\n",
       "        <div style=\"border: 1px solid #ddd; padding: 15px; margin: 10px 0; border-radius: 5px;\">\n",
       "            <h4>Span 24 of 62</h4>\n",
       "            <p><strong>Page:</strong> 3</p>\n",
       "            <p><strong>Text:</strong> <em>\"Key Features\"</em></p>\n",
       "            <div style=\"background-color: #f5f5f5; padding: 10px; border-radius: 3px;\">\n",
       "                <strong>Features:</strong><br>\n",
       "                • Font Size: 42.00<br>\n",
       "                • Bold: True<br>\n",
       "                • Italic: False<br>\n",
       "                • X Position: 154.54<br>\n",
       "                • Text Length: 12\n",
       "            </div>\n",
       "            <div style=\"background-color: #e8f4fd; padding: 10px; border-radius: 3px; margin-top: 10px;\">\n",
       "                <strong>🏷️ Labeling Options:</strong><br>\n",
       "                • <strong>0:</strong> BODY_TEXT (paragraphs, form fields, regular content)<br>\n",
       "                • <strong>1:</strong> TITLE (main document title)<br>\n",
       "                • <strong>2:</strong> H1 (major section headings)<br>\n",
       "                • <strong>3:</strong> H2 (subsection headings)<br>\n",
       "                • <strong>4:</strong> H3 (sub-subsection headings)<br>\n",
       "                • <strong>5:</strong> H4 (minor headings)\n",
       "            </div>\n",
       "        </div>\n",
       "        "
      ],
      "text/plain": [
       "<IPython.core.display.HTML object>"
      ]
     },
     "metadata": {},
     "output_type": "display_data"
    },
    {
     "data": {
      "text/plain": [
       "True"
      ]
     },
     "execution_count": 64,
     "metadata": {},
     "output_type": "execute_result"
    }
   ],
   "source": [
    "# Run this cell to see the current span to label\n",
    "labeler.display_current_span()\n"
   ]
  },
  {
   "cell_type": "code",
   "execution_count": 41,
   "id": "7a220b5b",
   "metadata": {},
   "outputs": [
    {
     "name": "stdout",
     "output_type": "stream",
     "text": [
      "✅ Labeled as TITLE: 'SmartHome Hub'\n"
     ]
    },
    {
     "data": {
      "text/html": [
       "\n",
       "        <div style=\"border: 1px solid #ddd; padding: 15px; margin: 10px 0; border-radius: 5px;\">\n",
       "            <h4>Span 5 of 62</h4>\n",
       "            <p><strong>Page:</strong> 1</p>\n",
       "            <p><strong>Text:</strong> <em>\"Prepared by:\"</em></p>\n",
       "            <div style=\"background-color: #f5f5f5; padding: 10px; border-radius: 3px;\">\n",
       "                <strong>Features:</strong><br>\n",
       "                • Font Size: 28.49<br>\n",
       "                • Bold: False<br>\n",
       "                • Italic: False<br>\n",
       "                • X Position: 209.39<br>\n",
       "                • Text Length: 12\n",
       "            </div>\n",
       "            <div style=\"background-color: #e8f4fd; padding: 10px; border-radius: 3px; margin-top: 10px;\">\n",
       "                <strong>🏷️ Labeling Options:</strong><br>\n",
       "                • <strong>0:</strong> BODY_TEXT (paragraphs, form fields, regular content)<br>\n",
       "                • <strong>1:</strong> TITLE (main document title)<br>\n",
       "                • <strong>2:</strong> H1 (major section headings)<br>\n",
       "                • <strong>3:</strong> H2 (subsection headings)<br>\n",
       "                • <strong>4:</strong> H3 (sub-subsection headings)<br>\n",
       "                • <strong>5:</strong> H4 (minor headings)\n",
       "            </div>\n",
       "        </div>\n",
       "        "
      ],
      "text/plain": [
       "<IPython.core.display.HTML object>"
      ]
     },
     "metadata": {},
     "output_type": "display_data"
    },
    {
     "data": {
      "text/plain": [
       "True"
      ]
     },
     "execution_count": 41,
     "metadata": {},
     "output_type": "execute_result"
    }
   ],
   "source": [
    "# TITLE - Run this for main document title\n",
    "labeler.label_current_span(1)\n",
    "labeler.display_current_span()"
   ]
  },
  {
   "cell_type": "code",
   "execution_count": 99,
   "id": "37b2e16a",
   "metadata": {},
   "outputs": [
    {
     "name": "stdout",
     "output_type": "stream",
     "text": [
      "✅ Labeled as H1: 'Next Steps'\n"
     ]
    },
    {
     "data": {
      "text/html": [
       "\n",
       "        <div style=\"border: 1px solid #ddd; padding: 15px; margin: 10px 0; border-radius: 5px;\">\n",
       "            <h4>Span 58 of 62</h4>\n",
       "            <p><strong>Page:</strong> 5</p>\n",
       "            <p><strong>Text:</strong> <em>\"Finalize production agreements with\"</em></p>\n",
       "            <div style=\"background-color: #f5f5f5; padding: 10px; border-radius: 3px;\">\n",
       "                <strong>Features:</strong><br>\n",
       "                • Font Size: 22.00<br>\n",
       "                • Bold: False<br>\n",
       "                • Italic: False<br>\n",
       "                • X Position: 78.29<br>\n",
       "                • Text Length: 35\n",
       "            </div>\n",
       "            <div style=\"background-color: #e8f4fd; padding: 10px; border-radius: 3px; margin-top: 10px;\">\n",
       "                <strong>🏷️ Labeling Options:</strong><br>\n",
       "                • <strong>0:</strong> BODY_TEXT (paragraphs, form fields, regular content)<br>\n",
       "                • <strong>1:</strong> TITLE (main document title)<br>\n",
       "                • <strong>2:</strong> H1 (major section headings)<br>\n",
       "                • <strong>3:</strong> H2 (subsection headings)<br>\n",
       "                • <strong>4:</strong> H3 (sub-subsection headings)<br>\n",
       "                • <strong>5:</strong> H4 (minor headings)\n",
       "            </div>\n",
       "        </div>\n",
       "        "
      ],
      "text/plain": [
       "<IPython.core.display.HTML object>"
      ]
     },
     "metadata": {},
     "output_type": "display_data"
    },
    {
     "data": {
      "text/plain": [
       "True"
      ]
     },
     "execution_count": 99,
     "metadata": {},
     "output_type": "execute_result"
    }
   ],
   "source": [
    "# H1 HEADING - Run this for major section headings\n",
    "labeler.label_current_span(2)\n",
    "labeler.display_current_span()\n"
   ]
  },
  {
   "cell_type": "code",
   "execution_count": 78,
   "id": "cb093640",
   "metadata": {},
   "outputs": [
    {
     "name": "stdout",
     "output_type": "stream",
     "text": [
      "✅ Labeled as H2: 'Company Market Share Key Differentiator'\n"
     ]
    },
    {
     "data": {
      "text/html": [
       "\n",
       "        <div style=\"border: 1px solid #ddd; padding: 15px; margin: 10px 0; border-radius: 5px;\">\n",
       "            <h4>Span 37 of 62</h4>\n",
       "            <p><strong>Page:</strong> 4</p>\n",
       "            <p><strong>Text:</strong> <em>\"SmartTech Co. 35% Wide range of\"</em></p>\n",
       "            <div style=\"background-color: #f5f5f5; padding: 10px; border-radius: 3px;\">\n",
       "                <strong>Features:</strong><br>\n",
       "                • Font Size: 22.00<br>\n",
       "                • Bold: False<br>\n",
       "                • Italic: False<br>\n",
       "                • X Position: 96.92<br>\n",
       "                • Text Length: 31\n",
       "            </div>\n",
       "            <div style=\"background-color: #e8f4fd; padding: 10px; border-radius: 3px; margin-top: 10px;\">\n",
       "                <strong>🏷️ Labeling Options:</strong><br>\n",
       "                • <strong>0:</strong> BODY_TEXT (paragraphs, form fields, regular content)<br>\n",
       "                • <strong>1:</strong> TITLE (main document title)<br>\n",
       "                • <strong>2:</strong> H1 (major section headings)<br>\n",
       "                • <strong>3:</strong> H2 (subsection headings)<br>\n",
       "                • <strong>4:</strong> H3 (sub-subsection headings)<br>\n",
       "                • <strong>5:</strong> H4 (minor headings)\n",
       "            </div>\n",
       "        </div>\n",
       "        "
      ],
      "text/plain": [
       "<IPython.core.display.HTML object>"
      ]
     },
     "metadata": {},
     "output_type": "display_data"
    },
    {
     "data": {
      "text/plain": [
       "True"
      ]
     },
     "execution_count": 78,
     "metadata": {},
     "output_type": "execute_result"
    }
   ],
   "source": [
    "# H2 HEADING - Run this for subsection headings  \n",
    "labeler.label_current_span(3)\n",
    "labeler.display_current_span()\n"
   ]
  },
  {
   "cell_type": "code",
   "execution_count": null,
   "id": "2158b184",
   "metadata": {},
   "outputs": [],
   "source": [
    "# H3 HEADING - Run this for sub-subsection headings\n",
    "labeler.label_current_span(4)\n",
    "labeler.display_current_span()\n"
   ]
  },
  {
   "cell_type": "code",
   "execution_count": 104,
   "id": "d671ef96",
   "metadata": {},
   "outputs": [
    {
     "name": "stdout",
     "output_type": "stream",
     "text": [
      "✅ Labeled as BODY_TEXT: 'Prepare for the official launch event.'\n",
      "🎉 All spans have been processed!\n"
     ]
    },
    {
     "data": {
      "text/plain": [
       "False"
      ]
     },
     "execution_count": 104,
     "metadata": {},
     "output_type": "execute_result"
    }
   ],
   "source": [
    "# BODY TEXT - Run this for regular content\n",
    "labeler.label_current_span(0)\n",
    "labeler.display_current_span()\n"
   ]
  },
  {
   "cell_type": "code",
   "execution_count": 73,
   "id": "7587c39f",
   "metadata": {},
   "outputs": [
    {
     "data": {
      "text/html": [
       "\n",
       "        <div style=\"background-color: #e8f5e8; padding: 15px; border-radius: 5px; margin: 10px 0;\">\n",
       "            <h4>📊 Enhanced Labeling Statistics</h4>\n",
       "            <p><strong>Total Labeled:</strong> 26</p>\n",
       "            <p><strong>Progress:</strong> 31/62 spans processed</p>\n",
       "            <div style=\"margin-top: 10px;\">\n",
       "                <strong>Label Distribution:</strong>\n",
       "                <ul>\n",
       "        <li><strong>BODY_TEXT:</strong> 18 (69.2%)</li><li><strong>H1:</strong> 4 (15.4%)</li><li><strong>TITLE:</strong> 4 (15.4%)</li>\n",
       "                </ul>\n",
       "            </div>\n",
       "        </div>\n",
       "        "
      ],
      "text/plain": [
       "<IPython.core.display.HTML object>"
      ]
     },
     "metadata": {},
     "output_type": "display_data"
    }
   ],
   "source": [
    "# Check your labeling progress\n",
    "labeler.get_stats()\n"
   ]
  },
  {
   "cell_type": "code",
   "execution_count": null,
   "id": "598c2446",
   "metadata": {},
   "outputs": [],
   "source": [
    "# View recent labels in a nice table\n",
    "if labeler.labeled_data:\n",
    "    recent_labels = labeler.labeled_data[-10:]  # Last 10 labels\n",
    "    df = pd.DataFrame([{\n",
    "        'Text': item['text'][:50] + '...' if len(item['text']) > 50 else item['text'],\n",
    "        'Label': 'HEADING' if item['label'] == 1 else 'BODY TEXT',\n",
    "        'Page': item['page']\n",
    "    } for item in recent_labels])\n",
    "    \n",
    "    print(\"📋 Recent Labels:\")\n",
    "    display(df)\n"
   ]
  },
  {
   "cell_type": "code",
   "execution_count": null,
   "id": "552c44c9",
   "metadata": {},
   "outputs": [],
   "source": [
    "# When done with current PDF, load the next one\n",
    "next_pdf = \"file02.pdf\"  # Change to your next PDF filename\n",
    "success = labeler.load_pdf_spans(next_pdf)\n",
    "\n",
    "if success:\n",
    "    print(f\"📄 Loaded {next_pdf} for labeling\")\n",
    "    labeler.display_current_span()\n"
   ]
  },
  {
   "cell_type": "code",
   "execution_count": null,
   "id": "c5e63826",
   "metadata": {},
   "outputs": [],
   "source": [
    "# Export your completed training data\n",
    "print(f\"💾 Training data saved to: {labeler.output_file}\")\n",
    "print(f\"Total labeled examples: {len(labeler.labeled_data)}\")\n",
    "\n",
    "# Optional: Create a summary DataFrame\n",
    "if labeler.labeled_data:\n",
    "    summary_df = pd.DataFrame(labeler.labeled_data)\n",
    "    print(\"\\n📊 Label Distribution:\")\n",
    "    print(summary_df['label'].value_counts().rename({0: 'Body Text', 1: 'Headings'}))\n"
   ]
  }
 ],
 "metadata": {
  "kernelspec": {
   "display_name": "Python (adobehack)",
   "language": "python",
   "name": "adobehack"
  },
  "language_info": {
   "codemirror_mode": {
    "name": "ipython",
    "version": 3
   },
   "file_extension": ".py",
   "mimetype": "text/x-python",
   "name": "python",
   "nbconvert_exporter": "python",
   "pygments_lexer": "ipython3",
   "version": "3.10.18"
  }
 },
 "nbformat": 4,
 "nbformat_minor": 5
}
